{
 "cells": [
  {
   "cell_type": "code",
   "execution_count": 1,
   "metadata": {
    "collapsed": true,
    "pycharm": {
     "is_executing": false
    }
   },
   "outputs": [],
   "source": [
    "# general imports\n",
    "import pandas as pd\n",
    "import numpy as np\n",
    "import matplotlib.pyplot as plt\n",
    "import time\n"
   ]
  },
  {
   "cell_type": "code",
   "execution_count": 2,
   "outputs": [],
   "source": [
    "# imports for models\n",
    "from sklearn.ensemble import RandomForestClassifier\n",
    "from sklearn import tree\n",
    "from sklearn.neighbors import KNeighborsClassifier\n",
    "import xgboost\n",
    "from xgboost.sklearn import XGBClassifier\n",
    "from sklearn.svm import LinearSVC\n",
    "from sklearn.linear_model import SGDClassifier\n",
    "\n",
    "from sklearn.preprocessing import LabelEncoder, Imputer\n",
    "from sklearn.model_selection import train_test_split, cross_val_score, cross_val_predict, RandomizedSearchCV, KFold, GridSearchCV\n",
    "from sklearn.metrics import accuracy_score\n",
    "from sklearn.metrics import classification_report, confusion_matrix\n",
    "from sklearn.ensemble import RandomForestRegressor\n",
    "from sklearn import metrics\n"
   ],
   "metadata": {
    "collapsed": false,
    "pycharm": {
     "name": "#%%\n",
     "is_executing": false
    }
   }
  },
  {
   "cell_type": "markdown",
   "source": [
    "# Load pre-processed data"
   ],
   "metadata": {
    "collapsed": false
   }
  },
  {
   "cell_type": "code",
   "execution_count": 3,
   "outputs": [
    {
     "data": {
      "text/plain": "          id  amount_tsh  region_code  district_code  population  \\\n4616   52699         0.0           60             43         110   \n8621    1757         0.0           13              4         134   \n24274  27264         0.0            3              2         430   \n3086   52477         0.0           17              3           0   \n23240  37072       500.0            5              4         280   \n\n       public_meeting  permit  construction_year  basin_Internal  \\\n4616                1       0               2008               0   \n8621                1       1               2004               1   \n24274               1       0               1993               0   \n3086                1       1                  0               1   \n23240               1       1               1996               0   \n\n       basin_Lake Nyasa  ...  funder_Rwssp  funder_Shipo  funder_Tasaf  \\\n4616                  0  ...             0             0             0   \n8621                  0  ...             0             0             0   \n24274                 0  ...             0             0             0   \n3086                  0  ...             0             0             0   \n23240                 0  ...             0             0             0   \n\n       funder_Tcrs  funder_Unicef  funder_Water  funder_Wateraid  \\\n4616             0              0             0                0   \n8621             0              0             0                0   \n24274            0              0             0                0   \n3086             0              0             0                0   \n23240            0              0             0                0   \n\n       funder_World Bank  funder_World Vision  funder_Wsdp  \n4616                   0                    0            0  \n8621                   0                    0            0  \n24274                  0                    0            0  \n3086                   0                    0            0  \n23240                  0                    0            0  \n\n[5 rows x 198 columns]",
      "text/html": "<div>\n<style scoped>\n    .dataframe tbody tr th:only-of-type {\n        vertical-align: middle;\n    }\n\n    .dataframe tbody tr th {\n        vertical-align: top;\n    }\n\n    .dataframe thead th {\n        text-align: right;\n    }\n</style>\n<table border=\"1\" class=\"dataframe\">\n  <thead>\n    <tr style=\"text-align: right;\">\n      <th></th>\n      <th>id</th>\n      <th>amount_tsh</th>\n      <th>region_code</th>\n      <th>district_code</th>\n      <th>population</th>\n      <th>public_meeting</th>\n      <th>permit</th>\n      <th>construction_year</th>\n      <th>basin_Internal</th>\n      <th>basin_Lake Nyasa</th>\n      <th>...</th>\n      <th>funder_Rwssp</th>\n      <th>funder_Shipo</th>\n      <th>funder_Tasaf</th>\n      <th>funder_Tcrs</th>\n      <th>funder_Unicef</th>\n      <th>funder_Water</th>\n      <th>funder_Wateraid</th>\n      <th>funder_World Bank</th>\n      <th>funder_World Vision</th>\n      <th>funder_Wsdp</th>\n    </tr>\n  </thead>\n  <tbody>\n    <tr>\n      <th>4616</th>\n      <td>52699</td>\n      <td>0.0</td>\n      <td>60</td>\n      <td>43</td>\n      <td>110</td>\n      <td>1</td>\n      <td>0</td>\n      <td>2008</td>\n      <td>0</td>\n      <td>0</td>\n      <td>...</td>\n      <td>0</td>\n      <td>0</td>\n      <td>0</td>\n      <td>0</td>\n      <td>0</td>\n      <td>0</td>\n      <td>0</td>\n      <td>0</td>\n      <td>0</td>\n      <td>0</td>\n    </tr>\n    <tr>\n      <th>8621</th>\n      <td>1757</td>\n      <td>0.0</td>\n      <td>13</td>\n      <td>4</td>\n      <td>134</td>\n      <td>1</td>\n      <td>1</td>\n      <td>2004</td>\n      <td>1</td>\n      <td>0</td>\n      <td>...</td>\n      <td>0</td>\n      <td>0</td>\n      <td>0</td>\n      <td>0</td>\n      <td>0</td>\n      <td>0</td>\n      <td>0</td>\n      <td>0</td>\n      <td>0</td>\n      <td>0</td>\n    </tr>\n    <tr>\n      <th>24274</th>\n      <td>27264</td>\n      <td>0.0</td>\n      <td>3</td>\n      <td>2</td>\n      <td>430</td>\n      <td>1</td>\n      <td>0</td>\n      <td>1993</td>\n      <td>0</td>\n      <td>0</td>\n      <td>...</td>\n      <td>0</td>\n      <td>0</td>\n      <td>0</td>\n      <td>0</td>\n      <td>0</td>\n      <td>0</td>\n      <td>0</td>\n      <td>0</td>\n      <td>0</td>\n      <td>0</td>\n    </tr>\n    <tr>\n      <th>3086</th>\n      <td>52477</td>\n      <td>0.0</td>\n      <td>17</td>\n      <td>3</td>\n      <td>0</td>\n      <td>1</td>\n      <td>1</td>\n      <td>0</td>\n      <td>1</td>\n      <td>0</td>\n      <td>...</td>\n      <td>0</td>\n      <td>0</td>\n      <td>0</td>\n      <td>0</td>\n      <td>0</td>\n      <td>0</td>\n      <td>0</td>\n      <td>0</td>\n      <td>0</td>\n      <td>0</td>\n    </tr>\n    <tr>\n      <th>23240</th>\n      <td>37072</td>\n      <td>500.0</td>\n      <td>5</td>\n      <td>4</td>\n      <td>280</td>\n      <td>1</td>\n      <td>1</td>\n      <td>1996</td>\n      <td>0</td>\n      <td>0</td>\n      <td>...</td>\n      <td>0</td>\n      <td>0</td>\n      <td>0</td>\n      <td>0</td>\n      <td>0</td>\n      <td>0</td>\n      <td>0</td>\n      <td>0</td>\n      <td>0</td>\n      <td>0</td>\n    </tr>\n  </tbody>\n</table>\n<p>5 rows × 198 columns</p>\n</div>"
     },
     "metadata": {},
     "output_type": "execute_result",
     "execution_count": 3
    }
   ],
   "source": [
    "# read in and split the data\n",
    "mod_data = pd.read_csv('data/train_50.csv')\n",
    "X_train, X_test, y_train, y_test = train_test_split(\n",
    "    mod_data.drop(columns=['status_group']), mod_data['status_group'],\n",
    "    test_size=0.33, random_state=1)\n",
    "\n",
    "X_train.head()\n"
   ],
   "metadata": {
    "collapsed": false,
    "pycharm": {
     "name": "#%%\n",
     "is_executing": false
    }
   }
  },
  {
   "cell_type": "markdown",
   "source": [
    "# Training and testing models\n",
    "\n",
    "## Random Forest"
   ],
   "metadata": {
    "collapsed": false
   }
  },
  {
   "cell_type": "code",
   "execution_count": 4,
   "outputs": [
    {
     "name": "stderr",
     "text": [
      "C:\\ProgramData\\Anaconda3\\lib\\site-packages\\sklearn\\ensemble\\forest.py:245: FutureWarning: The default value of n_estimators will change from 10 in version 0.20 to 100 in 0.22.\n  \"10 in version 0.20 to 100 in 0.22.\", FutureWarning)\n"
     ],
     "output_type": "stream"
    },
    {
     "name": "stdout",
     "text": [
      "--- 0.6693806648254395 seconds ---\n              precision    recall  f1-score   support\n\n           0       0.78      0.85      0.82     10630\n           1       0.80      0.74      0.77      7572\n           2       0.41      0.28      0.34      1400\n\n    accuracy                           0.77     19602\n   macro avg       0.66      0.62      0.64     19602\nweighted avg       0.76      0.77      0.76     19602\n\n"
     ],
     "output_type": "stream"
    }
   ],
   "source": [
    "# Random forest\n",
    "start_time = time.time()\n",
    "\n",
    "# fit random forest\n",
    "clf = RandomForestClassifier(n_jobs=2, random_state=0)\n",
    "start_time = time.time()\n",
    "clf.fit(X_train,y_train)\n",
    "\n",
    "print(\"--- %s seconds ---\" % (time.time() - start_time))\n",
    "print(classification_report(y_test,clf.predict(X_test)))\n"
   ],
   "metadata": {
    "collapsed": false,
    "pycharm": {
     "name": "#%%\n",
     "is_executing": false
    }
   }
  },
  {
   "cell_type": "markdown",
   "source": [
    "## Decision Tree"
   ],
   "metadata": {
    "collapsed": false
   }
  },
  {
   "cell_type": "code",
   "execution_count": 5,
   "outputs": [
    {
     "name": "stdout",
     "text": [
      "--- 1.0613460540771484 seconds ---\n[[8301 1656  673]\n [1763 5481  328]\n [ 666  287  447]]\n              precision    recall  f1-score   support\n\n           0       0.77      0.78      0.78     10630\n           1       0.74      0.72      0.73      7572\n           2       0.31      0.32      0.31      1400\n\n    accuracy                           0.73     19602\n   macro avg       0.61      0.61      0.61     19602\nweighted avg       0.73      0.73      0.73     19602\n\n"
     ],
     "output_type": "stream"
    }
   ],
   "source": [
    "# Decision Tree\n",
    "clf = tree.DecisionTreeClassifier()\n",
    "start_time = time.time()\n",
    "clf = clf.fit(X_train, y_train)\n",
    "\n",
    "y_pred = clf.predict(X_test)\n",
    "\n",
    "## evaluate decision tree\n",
    "print(\"--- %s seconds ---\" % (time.time() - start_time))\n",
    "print(confusion_matrix(y_test, y_pred))\n",
    "print(classification_report(y_test, y_pred))\n"
   ],
   "metadata": {
    "collapsed": false,
    "pycharm": {
     "name": "#%%\n",
     "is_executing": false
    }
   }
  },
  {
   "cell_type": "markdown",
   "source": [
    "## K-Nearest Neighbors (KNN)"
   ],
   "metadata": {
    "collapsed": false
   }
  },
  {
   "cell_type": "code",
   "execution_count": 6,
   "outputs": [
    {
     "name": "stdout",
     "text": [
      "--- 5.468376636505127 seconds ---\n[[8301 1656  673]\n [1763 5481  328]\n [ 666  287  447]]\n              precision    recall  f1-score   support\n\n           0       0.77      0.78      0.78     10630\n           1       0.74      0.72      0.73      7572\n           2       0.31      0.32      0.31      1400\n\n    accuracy                           0.73     19602\n   macro avg       0.61      0.61      0.61     19602\nweighted avg       0.73      0.73      0.73     19602\n\n"
     ],
     "output_type": "stream"
    },
    {
     "data": {
      "text/plain": "Text(0, 0.5, 'Mean Error')"
     },
     "metadata": {},
     "output_type": "execute_result",
     "execution_count": 6
    },
    {
     "data": {
      "text/plain": "<Figure size 432x288 with 1 Axes>",
      "image/png": "[encoded data removed]"
     },
     "metadata": {
      "needs_background": "light"
     },
     "output_type": "display_data"
    }
   ],
   "source": [
    "# KNN\n",
    "kVals = range(1,10)\n",
    "error = []\n",
    "\n",
    "for i in kVals:\n",
    "    knn = KNeighborsClassifier(n_neighbors=i)\n",
    "    if i == kVals[-1]: start_time = time.time()\n",
    "    knn.fit(X_train, y_train)\n",
    "    pred_i = knn.predict(X_test)\n",
    "    error.append(np.mean(pred_i != y_test))\n",
    "\n",
    "## evaluate KNN\n",
    "print(\"--- %s seconds ---\" % (time.time() - start_time))\n",
    "print(confusion_matrix(y_test, y_pred))\n",
    "print(classification_report(y_test, y_pred))\n",
    "\n",
    "## plot KNN performance to K value\n",
    "plt.plot(kVals, error, color='red', linestyle='dashed', marker='o',\n",
    "         markerfacecolor='blue', markersize=10)\n",
    "\n",
    "plt.xlabel('K Value')\n",
    "plt.ylabel('Mean Error')"
   ],
   "metadata": {
    "collapsed": false,
    "pycharm": {
     "name": "#%%\n",
     "is_executing": false
    }
   }
  },
  {
   "cell_type": "markdown",
   "source": [
    "## XGBoost"
   ],
   "metadata": {
    "collapsed": false
   }
  },
  {
   "cell_type": "code",
   "execution_count": 7,
   "outputs": [
    {
     "name": "stdout",
     "text": [
      "--- 29.14628505706787 seconds ---\n              precision    recall  f1-score   support\n\n           0       0.71      0.94      0.81     10630\n           1       0.86      0.59      0.70      7572\n           2       0.63      0.09      0.15      1400\n\n    accuracy                           0.75     19602\n   macro avg       0.73      0.54      0.55     19602\nweighted avg       0.76      0.75      0.72     19602\n\n"
     ],
     "output_type": "stream"
    }
   ],
   "source": [
    "clf_xgb = XGBClassifier(objective='multi:softmax')\n",
    "\n",
    "start_time = time.time()\n",
    "clf_xgb.fit(X_train,y_train)\n",
    "\n",
    "print(\"--- %s seconds ---\" % (time.time() - start_time))\n",
    "print(classification_report(y_test,clf_xgb.predict(X_test)))\n"
   ],
   "metadata": {
    "collapsed": false,
    "pycharm": {
     "name": "#%%\n",
     "is_executing": false
    }
   }
  },
  {
   "cell_type": "markdown",
   "source": [
    "## Support Vector Machine (SVM)"
   ],
   "metadata": {
    "collapsed": false
   }
  },
  {
   "cell_type": "code",
   "execution_count": 8,
   "outputs": [
    {
     "name": "stdout",
     "text": [
      "--- 18.03048872947693 seconds ---\n              precision    recall  f1-score   support\n\n           0       0.61      0.95      0.74     10630\n           1       0.77      0.31      0.45      7572\n           2       0.00      0.00      0.00      1400\n\n    accuracy                           0.63     19602\n   macro avg       0.46      0.42      0.40     19602\nweighted avg       0.63      0.63      0.57     19602\n\n"
     ],
     "output_type": "stream"
    },
    {
     "name": "stderr",
     "text": [
      "C:\\ProgramData\\Anaconda3\\lib\\site-packages\\sklearn\\svm\\base.py:929: ConvergenceWarning: Liblinear failed to converge, increase the number of iterations.\n  \"the number of iterations.\", ConvergenceWarning)\nC:\\ProgramData\\Anaconda3\\lib\\site-packages\\sklearn\\metrics\\classification.py:1437: UndefinedMetricWarning: Precision and F-score are ill-defined and being set to 0.0 in labels with no predicted samples.\n  'precision', 'predicted', average, warn_for)\n"
     ],
     "output_type": "stream"
    }
   ],
   "source": [
    "# SVM\n",
    "\n",
    "clf_svm = LinearSVC(random_state=0)\n",
    "\n",
    "start_time = time.time()\n",
    "clf_svm.fit(X_train,y_train)\n",
    "\n",
    "print(\"--- %s seconds ---\" % (time.time() - start_time))\n",
    "print(classification_report(y_test,clf_svm.predict(X_test)))\n"
   ],
   "metadata": {
    "collapsed": false,
    "pycharm": {
     "name": "#%%\n",
     "is_executing": false
    }
   }
  },
  {
   "cell_type": "markdown",
   "source": [
    "## Logistic Regression"
   ],
   "metadata": {
    "collapsed": false
   }
  },
  {
   "cell_type": "code",
   "execution_count": 9,
   "outputs": [
    {
     "name": "stdout",
     "text": [
      "--- 17.704241275787354 seconds ---\n              precision    recall  f1-score   support\n\n           0       0.70      0.05      0.10     10630\n           1       0.52      0.06      0.11      7572\n           2       0.07      0.92      0.13      1400\n\n    accuracy                           0.12     19602\n   macro avg       0.43      0.35      0.12     19602\nweighted avg       0.59      0.12      0.11     19602\n\n"
     ],
     "output_type": "stream"
    }
   ],
   "source": [
    "# Logistic Regression\n",
    "clf_lr = SGDClassifier(loss='log',random_state=0)\n",
    "\n",
    "start_time = time.time()\n",
    "clf_lr.fit(X_train,y_train)\n",
    "\n",
    "print(\"--- %s seconds ---\" % (time.time() - start_time))\n",
    "print(classification_report(y_test,clf_lr.predict(X_test)))"
   ],
   "metadata": {
    "collapsed": false,
    "pycharm": {
     "name": "#%%\n",
     "is_executing": false
    }
   }
  }
 ],
 "metadata": {
  "kernelspec": {
   "display_name": "Python 3",
   "language": "python",
   "name": "python3"
  },
  "language_info": {
   "codemirror_mode": {
    "name": "ipython",
    "version": 2
   },
   "file_extension": ".py",
   "mimetype": "text/x-python",
   "name": "python",
   "nbconvert_exporter": "python",
   "pygments_lexer": "ipython2",
   "version": "2.7.6"
  },
  "pycharm": {
   "stem_cell": {
    "cell_type": "raw",
    "source": [],
    "metadata": {
     "collapsed": false
    }
   }
  }
 },
 "nbformat": 4,
 "nbformat_minor": 0
}