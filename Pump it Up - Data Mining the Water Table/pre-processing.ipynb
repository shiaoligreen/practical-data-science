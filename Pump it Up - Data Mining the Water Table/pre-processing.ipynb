{
 "cells": [
  {
   "cell_type": "code",
   "execution_count": 19,
   "metadata": {
    "pycharm": {
     "is_executing": false
    }
   },
   "outputs": [],
   "source": [
    "# Importing packages\n",
    "\n",
    "import pandas as pd\n",
    "import numpy as np"
   ]
  },
  {
   "cell_type": "code",
   "execution_count": 20,
   "metadata": {
    "pycharm": {
     "is_executing": false
    }
   },
   "outputs": [],
   "source": [
    "# Importing data\n",
    "train_data = pd.read_csv('train_values.csv')\n",
    "train_labels = pd.read_csv('train_labels.csv')\n",
    "test_data = pd.read_csv('test_values.csv')\n",
    "\n",
    "# combine train and test data\n",
    "train_data['train'] = 1\n",
    "test_data['train'] = 0\n",
    "combined = pd.concat([train_data,test_data])"
   ]
  },
  {
   "cell_type": "code",
   "execution_count": 21,
   "outputs": [],
   "source": [
    "# Function to drop irrelevant columns, convert booleans, get top n values, one hot encode\n",
    "# parameters are csv, number of top features to obtain, and flag for train vs test data\n",
    "def preprocess(data,n):\n",
    "    data = data.drop(columns = ['date_recorded','gps_height','longitude','latitude','wpt_name','num_private','subvillage','lga','ward','recorded_by','extraction_type_group','extraction_type','scheme_name','management','waterpoint_type_group','source','source_class','quantity_group','quality_group','payment_type'])\n",
    "    \n",
    "    data.permit = data.permit.astype(bool).astype(int)\n",
    "    data.public_meeting = data.public_meeting.astype(bool).astype(int)\n",
    "    \n",
    "    def get_n(x,n):\n",
    "    \n",
    "        list_a = set(x.value_counts().index[:n].values) # Gets the top 50 values from the series\n",
    "        x[~x.isin(list_a)] = 'Other' # vectorisation - boolean mask; tilda - inverting the boolean mask\n",
    "        # faster than a for loop \n",
    "        return x\n",
    "\n",
    "    data.funder = get_n(data.funder,n)\n",
    "    data.installer = get_n(data.installer,n) \n",
    "    \n",
    "    cat_columns = ['basin','scheme_management','quantity',\n",
    "               'extraction_type_class', 'management_group','payment', \n",
    "               'water_quality', 'source_type','waterpoint_type',\n",
    "               'region','installer', 'funder']\n",
    "\n",
    "    data = pd.get_dummies(data,columns = cat_columns)\n",
    "\n",
    "    return data"
   ],
   "metadata": {
    "collapsed": false,
    "pycharm": {
     "name": "#%%\n",
     "is_executing": false
    }
   }
  },
  {
   "cell_type": "code",
   "execution_count": 22,
   "outputs": [],
   "source": [
    "# process labels\n",
    "label_dict_status_group = {'functional':0,\n",
    "                   'non functional': 1,\n",
    "                   'functional needs repair': 2}\n",
    "train_labels.status_group = train_labels.status_group.replace(label_dict_status_group)"
   ],
   "metadata": {
    "collapsed": false,
    "pycharm": {
     "name": "#%%\n",
     "is_executing": false
    }
   }
  },
  {
   "cell_type": "code",
   "execution_count": 26,
   "outputs": [
    {
     "name": "stderr",
     "text": [
      "C:\\ProgramData\\Anaconda3\\lib\\site-packages\\ipykernel_launcher.py:12: SettingWithCopyWarning: \nA value is trying to be set on a copy of a slice from a DataFrame\n\nSee the caveats in the documentation: http://pandas.pydata.org/pandas-docs/stable/indexing.html#indexing-view-versus-copy\n  if sys.path[0] == '':\n"
     ],
     "output_type": "stream"
    }
   ],
   "source": [
    "# create datasets for 50 top features\n",
    "comb_50 = preprocess(combined,50)\n",
    "comb_100 = preprocess(combined,100)\n",
    "\n",
    "# split train test and drop additional column\n",
    "train_50 = comb_50[comb_50['train']==1]\n",
    "train_50 = train_50.drop(['train'],axis=1)\n",
    "test_50 = comb_50[comb_50['train']==0]\n",
    "test_50 = test_50.drop(['train'],axis=1)\n",
    "\n",
    "# combining both train files\n",
    "train_50 = pd.merge(train_50, train_labels, on = 'id')\n",
    "\n",
    "\n",
    "# export as csv files\n",
    "train_50.to_csv('train_50.csv', sep=',', encoding='utf-8', index=False)\n",
    "test_50.to_csv('test_50.csv', sep=',', encoding='utf-8', index=False)\n",
    "\n"
   ],
   "metadata": {
    "collapsed": false,
    "pycharm": {
     "name": "#%%\n",
     "is_executing": false
    }
   }
  }
 ],
 "metadata": {
  "kernelspec": {
   "display_name": "Python 3",
   "language": "python",
   "name": "python3"
  },
  "language_info": {
   "codemirror_mode": {
    "name": "ipython",
    "version": 3
   },
   "file_extension": ".py",
   "mimetype": "text/x-python",
   "name": "python",
   "nbconvert_exporter": "python",
   "pygments_lexer": "ipython3",
   "version": "3.6.9"
  },
  "pycharm": {
   "stem_cell": {
    "cell_type": "raw",
    "source": [],
    "metadata": {
     "collapsed": false
    }
   }
  }
 },
 "nbformat": 4,
 "nbformat_minor": 2
}